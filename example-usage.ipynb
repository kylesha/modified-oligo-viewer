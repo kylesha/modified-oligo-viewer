{
  "nbformat": 4,
  "nbformat_minor": 0,
  "metadata": {
    "colab": {
      "name": "modified-oligo-viewer.ipynb",
      "provenance": [],
      "collapsed_sections": []
    },
    "kernelspec": {
      "name": "python3",
      "display_name": "Python 3"
    }
  },
  "cells": [
    {
      "cell_type": "code",
      "metadata": {
        "id": "pnk9K0Xx3Ycz",
        "colab_type": "code",
        "colab": {}
      },
      "source": [
        "!pip install biopython\n",
        "import Bio\n",
        "print(Bio.__version__)\n",
        "\n",
        "from Bio.Seq import Seq\n",
        "from Bio.Alphabet import IUPAC\n",
        "from Bio.SeqRecord import SeqRecord"
      ],
      "execution_count": 0,
      "outputs": []
    },
    {
      "cell_type": "code",
      "metadata": {
        "id": "cWz6hSP-x1fz",
        "colab_type": "code",
        "colab": {}
      },
      "source": [
        "class ModifiedOligo:\n",
        "    '''\n",
        "    A class to facilitate viewing of modified bases present in an oligonucleotide. It does this by\n",
        "        (1) Replacing the modified base position(s) with a user-defined symbol.\n",
        "        (2) Colorizing each DNA base (and its modified base symbol) with the same color.\n",
        "\n",
        "    Attributes\n",
        "    ----------\n",
        "    SeqRecord: Bio.SeqRecord\n",
        "        A Biopython SeqRecord object\n",
        "    modifications: dict\n",
        "        A dictionary of the form {(symbol, name):(positions)}. It maps a user-defined symbol and the modified base name to the base position(s) in which the modified base occurs.\n",
        "        The base position is zero-based (so as to be consistent with SeqRecord numbering convention in Biopython). For example, suppose we have an oligo (say ATGTCAGTC) in which the second and eighth T are deoxyUracil (dU) bases,\n",
        "        and we wish to represent it using the pound '#' symbol. We would specify that as {('#', 'dU'):(1, 7)}\n",
        "    '''\n",
        "\n",
        "    #############| class constructor |#############\n",
        "    def __init__(self, SeqRecord, modifications=None):\n",
        "        self.__seq_rec = SeqRecord                \n",
        "        self.__modifications = modifications    \n",
        "        self.__oligo = [base for base in self.__seq_rec]\n",
        "        self.__info_table = {}                  \n",
        "\n",
        "        '''\n",
        "        Map each modified base's symbol and its position(s) to the canonical base.\n",
        "        The new dict has structure {(symbol, name, canonical_base):(positions)}\n",
        "        '''     \n",
        "        for symbol, positions in self.__modifications.items():\n",
        "            if len(positions) == 1:\n",
        "                canonical_base = self.__seq_rec[positions[0]]\n",
        "                self.__info_table.update({(symbol[0], symbol[1], canonical_base):positions})\n",
        "            else:   # ensure symbol does NOT map to mulitple (different) canonical bases\n",
        "                canonical_base = set([self.__seq_rec[i] for i in positions])\n",
        "                if len(canonical_base) == 1:\n",
        "                    self.__info_table.update({(symbol[0], symbol[1], canonical_base.pop()):positions})\n",
        "                else:\n",
        "                    print(\"ERROR!: \\'{}\\' is assigned to multiple canonical bases {}\".format(symbol[0], canonical_base))\n",
        "\n",
        "        # reconstruct oligo object: replacing modified base positions with use-defined symbols\n",
        "        for symbol, positions in self.__info_table.items():\n",
        "            if len(positions) == 1:\n",
        "                self.__oligo[positions[0]] = symbol[0]\n",
        "            else:\n",
        "                for i in positions:\n",
        "                   self.__oligo[i] = symbol[0]\n",
        "\n",
        "\n",
        "    #############| private class methods |#############\n",
        "    def __colorize(self, base):\n",
        "        for key in self.__info_table.keys():\n",
        "            if base.upper() == 'A' or ('A' in key and base in key):\n",
        "                return ''.join(['\\033[0;31m', base, '\\033[0m'])  # red\n",
        "            elif base.upper() == 'G' or ('G' in key and base in key):\n",
        "                return ''.join(['\\033[0;32m', base, '\\033[0m'])  # green\n",
        "            elif base.upper() == 'T' or ('T' in key and base in key):\n",
        "                return ''.join(['\\033[0;34m', base, '\\033[0m'])  # blue\n",
        "            elif base.upper() == 'C' or ('C' in key and base in key):\n",
        "                return ''.join(['\\033[0;33m', base, '\\033[0m'])  # yellow\n",
        "\n",
        "    def __legend(self):\n",
        "        legend = []\n",
        "        for key in self.__info_table.keys():\n",
        "            if key[2] == 'A':\n",
        "                legend.append(''.join(['\\033[0;31m', ' = '.join([key[0], key[1]]), '\\033[0m']))  # red\n",
        "            elif key[2] == 'G':\n",
        "                legend.append(''.join(['\\033[0;32m', ' = '.join([key[0], key[1]]), '\\033[0m']))  # green\n",
        "            elif key[2] == 'T':\n",
        "                legend.append(''.join(['\\033[0;34m', ' = '.join([key[0], key[1]]), '\\033[0m']))  # blue\n",
        "            elif key[2] == 'C':\n",
        "                legend.append(''.join(['\\033[0;33m', ' = '.join([key[0], key[1]]), '\\033[0m']))  # yellow\n",
        "        return ''.join([i+'\\n' for i in legend]).rstrip()\n",
        "\n",
        "   \n",
        "   #############| instance methods |#############\n",
        "    def view53(self, modified=True, showLegend = False):\n",
        "        # whether to view the unmodified (self.__seq_rec) or modified (self.__oligo) oligo\n",
        "        oligo_colored = [self.__colorize(base) for base in self.__oligo] if modified else [self.__colorize(base) for base in self.__seq_rec]\n",
        "        if showLegend:\n",
        "            return ''.join([self.__legend(), '\\n',\n",
        "                            \"5' \", ''.join(oligo_colored), \" 3'\"])\n",
        "        else:\n",
        "            return ''.join([\"5' \", ''.join(oligo_colored), \" 3'\"])\n",
        "\n",
        "    def view35(self, modified=True, showLegend = False):\n",
        "        # oligo_colored = [self.__colorize(base) for base in self.__oligo]\n",
        "        oligo_colored = [self.__colorize(base) for base in self.__oligo] if modified else [self.__colorize(base) for base in self.__seq_rec]\n",
        "        if showLegend:\n",
        "            return ''.join([self.__legend(), '\\n',\n",
        "                            \"3' \", ''.join(oligo_colored[::-1]), \" 5'\"])\n",
        "        else:\n",
        "            return ''.join([\"3' \", ''.join(oligo_colored[::-1]), \" 5'\"])"
      ],
      "execution_count": 0,
      "outputs": []
    },
    {
      "cell_type": "markdown",
      "metadata": {
        "id": "SqiGsJOtDh1B",
        "colab_type": "text"
      },
      "source": [
        "# Usage\n",
        "### 1. Creating a `ModifiedOligo` object\n",
        "A `ModifiedOligo` object has two atttributes: a sequence of DNA alphabet and a dictionary mapping the modified base(s) to its position.\n",
        "\n",
        "The DNA alphabet is created from Biopython's `Bio.SeqRecord` object as follows:"
      ]
    },
    {
      "cell_type": "code",
      "metadata": {
        "id": "cK-43n9JgzRC",
        "colab_type": "code",
        "colab": {}
      },
      "source": [
        "# construct IUPAC DNA object\n",
        "dna = Seq(\"ATCGAGTTTACCATATCTAGAATGCAT\", IUPAC.unambiguous_dna)\n",
        "\n",
        "# construct SeqRecord object\n",
        "seq_rec = SeqRecord(dna)"
      ],
      "execution_count": 0,
      "outputs": []
    },
    {
      "cell_type": "markdown",
      "metadata": {
        "id": "GwQgi3a6g85C",
        "colab_type": "text"
      },
      "source": [
        "While it is not necessary to specify `IUPAC.unambiguous_dna`, doing so enforces the fact that the created `Bio.Seq` object is a DNA alphabet (and not, for example, a peptide).\n",
        "\n",
        "Now create dictionary of the form {(symbol, name):(positions)} to map modified bases to their positions. Note the base numbering system is __zero-based__."
      ]
    },
    {
      "cell_type": "code",
      "metadata": {
        "id": "QlFa2EsmkSSs",
        "colab_type": "code",
        "colab": {}
      },
      "source": [
        "# define modified bases, their symbol representations, and their positions in the oligo\n",
        "mods = {('#', 'dU'):(1, 26),       \n",
        "        ('^', \"mC5\"):(11, 24),\n",
        "        ('$', \"Super G\"):(19, )}   # singletone tuple MUST end with comma"
      ],
      "execution_count": 0,
      "outputs": []
    },
    {
      "cell_type": "markdown",
      "metadata": {
        "id": "eIhAOGPalOob",
        "colab_type": "text"
      },
      "source": [
        "Create ModifiedOligo object"
      ]
    },
    {
      "cell_type": "code",
      "metadata": {
        "id": "-BiAvU_ulaLu",
        "colab_type": "code",
        "colab": {}
      },
      "source": [
        "# create ModifiedOligo object\n",
        "oligo = ModifiedOligo(seq_rec, modifications=mods)"
      ],
      "execution_count": 0,
      "outputs": []
    },
    {
      "cell_type": "markdown",
      "metadata": {
        "id": "iZOnCye6mlY2",
        "colab_type": "text"
      },
      "source": [
        "### 2. Viewing\n",
        "To view the `ModifiedOligo` object, use `view53()` and wrap it within a `print()` statement. Below, we view the unmodified oligo by setting `modified=False`."
      ]
    },
    {
      "cell_type": "code",
      "metadata": {
        "id": "QHaPdt16KPTA",
        "colab_type": "code",
        "outputId": "361cc317-bfa8-4d9e-8d7c-2b90bfcd4773",
        "colab": {
          "base_uri": "https://localhost:8080/",
          "height": 34
        }
      },
      "source": [
        "# view the unmodified oligo\n",
        "print(oligo.view53(modified=False))"
      ],
      "execution_count": 6,
      "outputs": [
        {
          "output_type": "stream",
          "text": [
            "5' \u001b[0;31mA\u001b[0m\u001b[0;34mT\u001b[0m\u001b[0;33mC\u001b[0m\u001b[0;32mG\u001b[0m\u001b[0;31mA\u001b[0m\u001b[0;32mG\u001b[0m\u001b[0;34mT\u001b[0m\u001b[0;34mT\u001b[0m\u001b[0;34mT\u001b[0m\u001b[0;31mA\u001b[0m\u001b[0;33mC\u001b[0m\u001b[0;33mC\u001b[0m\u001b[0;31mA\u001b[0m\u001b[0;34mT\u001b[0m\u001b[0;31mA\u001b[0m\u001b[0;34mT\u001b[0m\u001b[0;33mC\u001b[0m\u001b[0;34mT\u001b[0m\u001b[0;31mA\u001b[0m\u001b[0;32mG\u001b[0m\u001b[0;31mA\u001b[0m\u001b[0;31mA\u001b[0m\u001b[0;34mT\u001b[0m\u001b[0;32mG\u001b[0m\u001b[0;33mC\u001b[0m\u001b[0;31mA\u001b[0m\u001b[0;34mT\u001b[0m 3'\n"
          ],
          "name": "stdout"
        }
      ]
    },
    {
      "cell_type": "markdown",
      "metadata": {
        "id": "tgvafhzt0ac5",
        "colab_type": "text"
      },
      "source": [
        "Notice the oligo has been padded with `5'` and `3'`.\n",
        "\n",
        "To view the modified version by setting `modified=True` (default). Add the legend."
      ]
    },
    {
      "cell_type": "code",
      "metadata": {
        "id": "7b4FGTzo0LUT",
        "colab_type": "code",
        "outputId": "96ea0653-ed8b-43dc-fcde-779b2e512f6a",
        "colab": {
          "base_uri": "https://localhost:8080/",
          "height": 85
        }
      },
      "source": [
        "# view modified version, along with legend\n",
        "print(oligo.view53(showLegend=True))"
      ],
      "execution_count": 7,
      "outputs": [
        {
          "output_type": "stream",
          "text": [
            "\u001b[0;34m# = dU\u001b[0m\n",
            "\u001b[0;33m^ = mC5\u001b[0m\n",
            "\u001b[0;32m$ = Super G\u001b[0m\n",
            "5' \u001b[0;31mA\u001b[0m\u001b[0;34m#\u001b[0m\u001b[0;33mC\u001b[0m\u001b[0;32mG\u001b[0m\u001b[0;31mA\u001b[0m\u001b[0;32mG\u001b[0m\u001b[0;34mT\u001b[0m\u001b[0;34mT\u001b[0m\u001b[0;34mT\u001b[0m\u001b[0;31mA\u001b[0m\u001b[0;33mC\u001b[0m\u001b[0;33m^\u001b[0m\u001b[0;31mA\u001b[0m\u001b[0;34mT\u001b[0m\u001b[0;31mA\u001b[0m\u001b[0;34mT\u001b[0m\u001b[0;33mC\u001b[0m\u001b[0;34mT\u001b[0m\u001b[0;31mA\u001b[0m\u001b[0;32m$\u001b[0m\u001b[0;31mA\u001b[0m\u001b[0;31mA\u001b[0m\u001b[0;34mT\u001b[0m\u001b[0;32mG\u001b[0m\u001b[0;33m^\u001b[0m\u001b[0;31mA\u001b[0m\u001b[0;34m#\u001b[0m 3'\n"
          ],
          "name": "stdout"
        }
      ]
    },
    {
      "cell_type": "markdown",
      "metadata": {
        "id": "c_P9tWEy6R-E",
        "colab_type": "text"
      },
      "source": [
        "Notice the symbols **#** (at 1st and 26th bases), **^** (at 11th and 24th bases), and **$** (at 19th base) appear in the proper (zero-based) positions specified in the dictionary.\n",
        "\n",
        "\n",
        "Notice also they are color-matched to the canonical base which they represent. For example, \n",
        "- **#** = T = blue\n",
        "- **^** = C = yellow\n",
        "- **$** = G = green"
      ]
    },
    {
      "cell_type": "markdown",
      "metadata": {
        "id": "_kA6pLhB7-l9",
        "colab_type": "text"
      },
      "source": [
        "Sometimes, it is desirable to view the oligo in the 3' to 5' orientation (NOT reverse complement. Just reverse!)."
      ]
    },
    {
      "cell_type": "code",
      "metadata": {
        "id": "Szb_kvdV8YqF",
        "colab_type": "code",
        "colab": {
          "base_uri": "https://localhost:8080/",
          "height": 102
        },
        "outputId": "8bcc6f43-5e01-4ac8-fbd3-ba21cc3fc5ca"
      },
      "source": [
        "# view unmodified oligo in 3'->5', with legend\n",
        "print(oligo.view35(modified=False, showLegend=True))\n",
        "\n",
        "# view modified oligo in 3'->5', without legend\n",
        "print(oligo.view35(modified=True))"
      ],
      "execution_count": 8,
      "outputs": [
        {
          "output_type": "stream",
          "text": [
            "\u001b[0;34m# = dU\u001b[0m\n",
            "\u001b[0;33m^ = mC5\u001b[0m\n",
            "\u001b[0;32m$ = Super G\u001b[0m\n",
            "3' \u001b[0;34mT\u001b[0m\u001b[0;31mA\u001b[0m\u001b[0;33mC\u001b[0m\u001b[0;32mG\u001b[0m\u001b[0;34mT\u001b[0m\u001b[0;31mA\u001b[0m\u001b[0;31mA\u001b[0m\u001b[0;32mG\u001b[0m\u001b[0;31mA\u001b[0m\u001b[0;34mT\u001b[0m\u001b[0;33mC\u001b[0m\u001b[0;34mT\u001b[0m\u001b[0;31mA\u001b[0m\u001b[0;34mT\u001b[0m\u001b[0;31mA\u001b[0m\u001b[0;33mC\u001b[0m\u001b[0;33mC\u001b[0m\u001b[0;31mA\u001b[0m\u001b[0;34mT\u001b[0m\u001b[0;34mT\u001b[0m\u001b[0;34mT\u001b[0m\u001b[0;32mG\u001b[0m\u001b[0;31mA\u001b[0m\u001b[0;32mG\u001b[0m\u001b[0;33mC\u001b[0m\u001b[0;34mT\u001b[0m\u001b[0;31mA\u001b[0m 5'\n",
            "3' \u001b[0;34m#\u001b[0m\u001b[0;31mA\u001b[0m\u001b[0;33m^\u001b[0m\u001b[0;32mG\u001b[0m\u001b[0;34mT\u001b[0m\u001b[0;31mA\u001b[0m\u001b[0;31mA\u001b[0m\u001b[0;32m$\u001b[0m\u001b[0;31mA\u001b[0m\u001b[0;34mT\u001b[0m\u001b[0;33mC\u001b[0m\u001b[0;34mT\u001b[0m\u001b[0;31mA\u001b[0m\u001b[0;34mT\u001b[0m\u001b[0;31mA\u001b[0m\u001b[0;33m^\u001b[0m\u001b[0;33mC\u001b[0m\u001b[0;31mA\u001b[0m\u001b[0;34mT\u001b[0m\u001b[0;34mT\u001b[0m\u001b[0;34mT\u001b[0m\u001b[0;32mG\u001b[0m\u001b[0;31mA\u001b[0m\u001b[0;32mG\u001b[0m\u001b[0;33mC\u001b[0m\u001b[0;34m#\u001b[0m\u001b[0;31mA\u001b[0m 5'\n"
          ],
          "name": "stdout"
        }
      ]
    }
  ]
}